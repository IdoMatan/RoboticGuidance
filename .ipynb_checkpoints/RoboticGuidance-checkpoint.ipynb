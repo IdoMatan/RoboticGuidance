{
 "cells": [
  {
   "cell_type": "code",
   "execution_count": 1,
   "metadata": {},
   "outputs": [
    {
     "name": "stdout",
     "output_type": "stream",
     "text": [
      "['episode_1598190402_Sun,23_Aug_2020_16_46_42.json', 'episode_1598190506_Sun,23_Aug_2020_16_48_25.json']\n",
      "<_io.TextIOWrapper name='./episodes/episode_1598190402_Sun,23_Aug_2020_16_46_42.json' mode='r' encoding='UTF-8'>\n",
      "<_io.TextIOWrapper name='./episodes/episode_1598190506_Sun,23_Aug_2020_16_48_25.json' mode='r' encoding='UTF-8'>\n"
     ]
    }
   ],
   "source": [
    "from utils import *\n",
    "import os\n",
    "\n",
    "parser = EpisodeParser('./episodes',time_interval=0)\n",
    "parser.load_episodes()"
   ]
  },
  {
   "cell_type": "code",
   "execution_count": null,
   "metadata": {},
   "outputs": [],
   "source": []
  }
 ],
 "metadata": {
  "kernelspec": {
   "display_name": "Python 3",
   "language": "python",
   "name": "python3"
  },
  "language_info": {
   "codemirror_mode": {
    "name": "ipython",
    "version": 3
   },
   "file_extension": ".py",
   "mimetype": "text/x-python",
   "name": "python",
   "nbconvert_exporter": "python",
   "pygments_lexer": "ipython3",
   "version": "3.7.7"
  }
 },
 "nbformat": 4,
 "nbformat_minor": 1
}
